{
  "metadata": {
    "kernelspec": {
      "language": "python",
      "display_name": "Python 3",
      "name": "python3"
    },
    "language_info": {
      "pygments_lexer": "ipython3",
      "nbconvert_exporter": "python",
      "version": "3.6.4",
      "file_extension": ".py",
      "codemirror_mode": {
        "name": "ipython",
        "version": 3
      },
      "name": "python",
      "mimetype": "text/x-python"
    },
    "colab": {
      "name": "heart attack prediction.ipynb",
      "provenance": []
    }
  },
  "nbformat_minor": 0,
  "nbformat": 4,
  "cells": [
    {
      "cell_type": "markdown",
      "source": [
        "# Introduction\n",
        "\n",
        "\n",
        "## Heart Attack Analysis & Prediction Dataset\n",
        "\n",
        "- A dataset for heart attack classification\n",
        "\n",
        "\n",
        "### About this dataset\n",
        "\n",
        "- Age : Age of the patient\n",
        "- Sex : Sex of the patient\n",
        "- exang: exercise induced angina (1 = yes; 0 = no)\n",
        "- ca: number of major vessels (0-3)\n",
        "- cp : Chest Pain type chest pain type\n",
        "\n",
        "- Value 1: typical angina\n",
        "- Value 2: atypical angina\n",
        "- Value 3: non-anginal pain\n",
        "- Value 4: asymptomatic\n",
        "\n",
        "\n",
        "- trtbps : resting blood pressure (in mm Hg)\n",
        "- chol : cholestoral in mg/dl fetched via BMI sensor\n",
        "- fbs : (fasting blood sugar > 120 mg/dl) (1 = true; 0 = false)\n",
        "- rest_ecg : resting electrocardiographic results\n",
        "\n",
        "- Value 0: normal\n",
        "- Value 1: having ST-T wave abnormality (T wave inversions and/or ST elevation or depression of > 0.05 mV)\n",
        "- Value 2: showing probable or definite left ventricular hypertrophy by Estes' criteria\n",
        "- thalach : maximum heart rate achieved\n",
        "\n",
        "- target : 0= less chance of heart attack 1= more chance of heart attack\n"
      ],
      "metadata": {
        "papermill": {
          "duration": 0.0325,
          "end_time": "2022-05-14T15:49:08.546459",
          "exception": false,
          "start_time": "2022-05-14T15:49:08.513959",
          "status": "completed"
        },
        "tags": [],
        "id": "hGgCti1iJfZm"
      }
    },
    {
      "cell_type": "markdown",
      "source": [
        "# Data Exploration & Analysis "
      ],
      "metadata": {
        "papermill": {
          "duration": 0.032756,
          "end_time": "2022-05-14T15:49:08.613061",
          "exception": false,
          "start_time": "2022-05-14T15:49:08.580305",
          "status": "completed"
        },
        "tags": [],
        "id": "fCn-fuIuJfZo"
      }
    },
    {
      "cell_type": "code",
      "source": [
        "#Importing the basic librarires fot analysis\n",
        "\n",
        "import numpy as np\n",
        "import pandas as pd\n",
        "import seaborn as sns\n",
        "import matplotlib.pyplot as plt\n",
        "plt.style.use(\"ggplot\")  #using style ggplot\n",
        "\n",
        "%matplotlib inline\n",
        "import plotly.graph_objects as go\n",
        "import plotly.express as px"
      ],
      "metadata": {
        "papermill": {
          "duration": 2.576697,
          "end_time": "2022-05-14T15:49:11.220276",
          "exception": false,
          "start_time": "2022-05-14T15:49:08.643579",
          "status": "completed"
        },
        "tags": [],
        "execution": {
          "iopub.status.busy": "2022-05-14T18:38:00.444448Z",
          "iopub.execute_input": "2022-05-14T18:38:00.445103Z",
          "iopub.status.idle": "2022-05-14T18:38:02.730736Z",
          "shell.execute_reply.started": "2022-05-14T18:38:00.444986Z",
          "shell.execute_reply": "2022-05-14T18:38:02.729927Z"
        },
        "trusted": true,
        "id": "DLQmumYxJfZp"
      },
      "execution_count": 1,
      "outputs": []
    },
    {
      "cell_type": "code",
      "source": [
        "#Importing the dataset\n",
        "df =pd.read_csv(\"/content/heart.csv\")\n",
        "\n",
        "\n",
        "# look the data set\n",
        "df.head()"
      ],
      "metadata": {
        "papermill": {
          "duration": 0.079179,
          "end_time": "2022-05-14T15:49:11.347291",
          "exception": false,
          "start_time": "2022-05-14T15:49:11.268112",
          "status": "completed"
        },
        "tags": [],
        "execution": {
          "iopub.status.busy": "2022-05-14T18:38:02.732371Z",
          "iopub.execute_input": "2022-05-14T18:38:02.732581Z",
          "iopub.status.idle": "2022-05-14T18:38:02.767674Z",
          "shell.execute_reply.started": "2022-05-14T18:38:02.732555Z",
          "shell.execute_reply": "2022-05-14T18:38:02.767059Z"
        },
        "trusted": true,
        "colab": {
          "base_uri": "https://localhost:8080/",
          "height": 206
        },
        "id": "TyKU5qLhJfZq",
        "outputId": "1eb2fdcc-301a-4def-f65c-df8b9cd9bbd0"
      },
      "execution_count": 2,
      "outputs": [
        {
          "output_type": "execute_result",
          "data": {
            "text/plain": [
              "   age  sex  cp  trtbps  chol  fbs  restecg  thalachh  exng  oldpeak  slp  \\\n",
              "0   63    1   3     145   233    1        0       150     0      2.3    0   \n",
              "1   37    1   2     130   250    0        1       187     0      3.5    0   \n",
              "2   41    0   1     130   204    0        0       172     0      1.4    2   \n",
              "3   56    1   1     120   236    0        1       178     0      0.8    2   \n",
              "4   57    0   0     120   354    0        1       163     1      0.6    2   \n",
              "\n",
              "   caa  thall  output  \n",
              "0    0      1       1  \n",
              "1    0      2       1  \n",
              "2    0      2       1  \n",
              "3    0      2       1  \n",
              "4    0      2       1  "
            ],
            "text/html": [
              "\n",
              "  <div id=\"df-99c0b6fe-2636-4783-b59a-364f771184d1\">\n",
              "    <div class=\"colab-df-container\">\n",
              "      <div>\n",
              "<style scoped>\n",
              "    .dataframe tbody tr th:only-of-type {\n",
              "        vertical-align: middle;\n",
              "    }\n",
              "\n",
              "    .dataframe tbody tr th {\n",
              "        vertical-align: top;\n",
              "    }\n",
              "\n",
              "    .dataframe thead th {\n",
              "        text-align: right;\n",
              "    }\n",
              "</style>\n",
              "<table border=\"1\" class=\"dataframe\">\n",
              "  <thead>\n",
              "    <tr style=\"text-align: right;\">\n",
              "      <th></th>\n",
              "      <th>age</th>\n",
              "      <th>sex</th>\n",
              "      <th>cp</th>\n",
              "      <th>trtbps</th>\n",
              "      <th>chol</th>\n",
              "      <th>fbs</th>\n",
              "      <th>restecg</th>\n",
              "      <th>thalachh</th>\n",
              "      <th>exng</th>\n",
              "      <th>oldpeak</th>\n",
              "      <th>slp</th>\n",
              "      <th>caa</th>\n",
              "      <th>thall</th>\n",
              "      <th>output</th>\n",
              "    </tr>\n",
              "  </thead>\n",
              "  <tbody>\n",
              "    <tr>\n",
              "      <th>0</th>\n",
              "      <td>63</td>\n",
              "      <td>1</td>\n",
              "      <td>3</td>\n",
              "      <td>145</td>\n",
              "      <td>233</td>\n",
              "      <td>1</td>\n",
              "      <td>0</td>\n",
              "      <td>150</td>\n",
              "      <td>0</td>\n",
              "      <td>2.3</td>\n",
              "      <td>0</td>\n",
              "      <td>0</td>\n",
              "      <td>1</td>\n",
              "      <td>1</td>\n",
              "    </tr>\n",
              "    <tr>\n",
              "      <th>1</th>\n",
              "      <td>37</td>\n",
              "      <td>1</td>\n",
              "      <td>2</td>\n",
              "      <td>130</td>\n",
              "      <td>250</td>\n",
              "      <td>0</td>\n",
              "      <td>1</td>\n",
              "      <td>187</td>\n",
              "      <td>0</td>\n",
              "      <td>3.5</td>\n",
              "      <td>0</td>\n",
              "      <td>0</td>\n",
              "      <td>2</td>\n",
              "      <td>1</td>\n",
              "    </tr>\n",
              "    <tr>\n",
              "      <th>2</th>\n",
              "      <td>41</td>\n",
              "      <td>0</td>\n",
              "      <td>1</td>\n",
              "      <td>130</td>\n",
              "      <td>204</td>\n",
              "      <td>0</td>\n",
              "      <td>0</td>\n",
              "      <td>172</td>\n",
              "      <td>0</td>\n",
              "      <td>1.4</td>\n",
              "      <td>2</td>\n",
              "      <td>0</td>\n",
              "      <td>2</td>\n",
              "      <td>1</td>\n",
              "    </tr>\n",
              "    <tr>\n",
              "      <th>3</th>\n",
              "      <td>56</td>\n",
              "      <td>1</td>\n",
              "      <td>1</td>\n",
              "      <td>120</td>\n",
              "      <td>236</td>\n",
              "      <td>0</td>\n",
              "      <td>1</td>\n",
              "      <td>178</td>\n",
              "      <td>0</td>\n",
              "      <td>0.8</td>\n",
              "      <td>2</td>\n",
              "      <td>0</td>\n",
              "      <td>2</td>\n",
              "      <td>1</td>\n",
              "    </tr>\n",
              "    <tr>\n",
              "      <th>4</th>\n",
              "      <td>57</td>\n",
              "      <td>0</td>\n",
              "      <td>0</td>\n",
              "      <td>120</td>\n",
              "      <td>354</td>\n",
              "      <td>0</td>\n",
              "      <td>1</td>\n",
              "      <td>163</td>\n",
              "      <td>1</td>\n",
              "      <td>0.6</td>\n",
              "      <td>2</td>\n",
              "      <td>0</td>\n",
              "      <td>2</td>\n",
              "      <td>1</td>\n",
              "    </tr>\n",
              "  </tbody>\n",
              "</table>\n",
              "</div>\n",
              "      <button class=\"colab-df-convert\" onclick=\"convertToInteractive('df-99c0b6fe-2636-4783-b59a-364f771184d1')\"\n",
              "              title=\"Convert this dataframe to an interactive table.\"\n",
              "              style=\"display:none;\">\n",
              "        \n",
              "  <svg xmlns=\"http://www.w3.org/2000/svg\" height=\"24px\"viewBox=\"0 0 24 24\"\n",
              "       width=\"24px\">\n",
              "    <path d=\"M0 0h24v24H0V0z\" fill=\"none\"/>\n",
              "    <path d=\"M18.56 5.44l.94 2.06.94-2.06 2.06-.94-2.06-.94-.94-2.06-.94 2.06-2.06.94zm-11 1L8.5 8.5l.94-2.06 2.06-.94-2.06-.94L8.5 2.5l-.94 2.06-2.06.94zm10 10l.94 2.06.94-2.06 2.06-.94-2.06-.94-.94-2.06-.94 2.06-2.06.94z\"/><path d=\"M17.41 7.96l-1.37-1.37c-.4-.4-.92-.59-1.43-.59-.52 0-1.04.2-1.43.59L10.3 9.45l-7.72 7.72c-.78.78-.78 2.05 0 2.83L4 21.41c.39.39.9.59 1.41.59.51 0 1.02-.2 1.41-.59l7.78-7.78 2.81-2.81c.8-.78.8-2.07 0-2.86zM5.41 20L4 18.59l7.72-7.72 1.47 1.35L5.41 20z\"/>\n",
              "  </svg>\n",
              "      </button>\n",
              "      \n",
              "  <style>\n",
              "    .colab-df-container {\n",
              "      display:flex;\n",
              "      flex-wrap:wrap;\n",
              "      gap: 12px;\n",
              "    }\n",
              "\n",
              "    .colab-df-convert {\n",
              "      background-color: #E8F0FE;\n",
              "      border: none;\n",
              "      border-radius: 50%;\n",
              "      cursor: pointer;\n",
              "      display: none;\n",
              "      fill: #1967D2;\n",
              "      height: 32px;\n",
              "      padding: 0 0 0 0;\n",
              "      width: 32px;\n",
              "    }\n",
              "\n",
              "    .colab-df-convert:hover {\n",
              "      background-color: #E2EBFA;\n",
              "      box-shadow: 0px 1px 2px rgba(60, 64, 67, 0.3), 0px 1px 3px 1px rgba(60, 64, 67, 0.15);\n",
              "      fill: #174EA6;\n",
              "    }\n",
              "\n",
              "    [theme=dark] .colab-df-convert {\n",
              "      background-color: #3B4455;\n",
              "      fill: #D2E3FC;\n",
              "    }\n",
              "\n",
              "    [theme=dark] .colab-df-convert:hover {\n",
              "      background-color: #434B5C;\n",
              "      box-shadow: 0px 1px 3px 1px rgba(0, 0, 0, 0.15);\n",
              "      filter: drop-shadow(0px 1px 2px rgba(0, 0, 0, 0.3));\n",
              "      fill: #FFFFFF;\n",
              "    }\n",
              "  </style>\n",
              "\n",
              "      <script>\n",
              "        const buttonEl =\n",
              "          document.querySelector('#df-99c0b6fe-2636-4783-b59a-364f771184d1 button.colab-df-convert');\n",
              "        buttonEl.style.display =\n",
              "          google.colab.kernel.accessAllowed ? 'block' : 'none';\n",
              "\n",
              "        async function convertToInteractive(key) {\n",
              "          const element = document.querySelector('#df-99c0b6fe-2636-4783-b59a-364f771184d1');\n",
              "          const dataTable =\n",
              "            await google.colab.kernel.invokeFunction('convertToInteractive',\n",
              "                                                     [key], {});\n",
              "          if (!dataTable) return;\n",
              "\n",
              "          const docLinkHtml = 'Like what you see? Visit the ' +\n",
              "            '<a target=\"_blank\" href=https://colab.research.google.com/notebooks/data_table.ipynb>data table notebook</a>'\n",
              "            + ' to learn more about interactive tables.';\n",
              "          element.innerHTML = '';\n",
              "          dataTable['output_type'] = 'display_data';\n",
              "          await google.colab.output.renderOutput(dataTable, element);\n",
              "          const docLink = document.createElement('div');\n",
              "          docLink.innerHTML = docLinkHtml;\n",
              "          element.appendChild(docLink);\n",
              "        }\n",
              "      </script>\n",
              "    </div>\n",
              "  </div>\n",
              "  "
            ]
          },
          "metadata": {},
          "execution_count": 2
        }
      ]
    },
    {
      "cell_type": "code",
      "source": [
        "# looking the shape DataSet\n",
        "df.shape"
      ],
      "metadata": {
        "papermill": {
          "duration": 0.057659,
          "end_time": "2022-05-14T15:49:11.446181",
          "exception": false,
          "start_time": "2022-05-14T15:49:11.388522",
          "status": "completed"
        },
        "tags": [],
        "execution": {
          "iopub.status.busy": "2022-05-14T18:38:02.768614Z",
          "iopub.execute_input": "2022-05-14T18:38:02.769308Z",
          "iopub.status.idle": "2022-05-14T18:38:02.773955Z",
          "shell.execute_reply.started": "2022-05-14T18:38:02.769274Z",
          "shell.execute_reply": "2022-05-14T18:38:02.773194Z"
        },
        "trusted": true,
        "colab": {
          "base_uri": "https://localhost:8080/"
        },
        "id": "mPab4GXGJfZr",
        "outputId": "dd21a33d-bcbb-4dbb-fdd4-2cb978609829"
      },
      "execution_count": 3,
      "outputs": [
        {
          "output_type": "execute_result",
          "data": {
            "text/plain": [
              "(303, 14)"
            ]
          },
          "metadata": {},
          "execution_count": 3
        }
      ]
    },
    {
      "cell_type": "code",
      "source": [
        "#Checking the dtypes of all the columns\n",
        "\n",
        "df.info()"
      ],
      "metadata": {
        "papermill": {
          "duration": 0.067898,
          "end_time": "2022-05-14T15:49:11.56777",
          "exception": false,
          "start_time": "2022-05-14T15:49:11.499872",
          "status": "completed"
        },
        "tags": [],
        "execution": {
          "iopub.status.busy": "2022-05-14T18:38:02.775847Z",
          "iopub.execute_input": "2022-05-14T18:38:02.77606Z",
          "iopub.status.idle": "2022-05-14T18:38:02.803614Z",
          "shell.execute_reply.started": "2022-05-14T18:38:02.776033Z",
          "shell.execute_reply": "2022-05-14T18:38:02.802886Z"
        },
        "trusted": true,
        "colab": {
          "base_uri": "https://localhost:8080/"
        },
        "id": "w85Pirb7JfZr",
        "outputId": "f7de18da-8d36-4bd1-faf7-10887c0fa935"
      },
      "execution_count": 4,
      "outputs": [
        {
          "output_type": "stream",
          "name": "stdout",
          "text": [
            "<class 'pandas.core.frame.DataFrame'>\n",
            "RangeIndex: 303 entries, 0 to 302\n",
            "Data columns (total 14 columns):\n",
            " #   Column    Non-Null Count  Dtype  \n",
            "---  ------    --------------  -----  \n",
            " 0   age       303 non-null    int64  \n",
            " 1   sex       303 non-null    int64  \n",
            " 2   cp        303 non-null    int64  \n",
            " 3   trtbps    303 non-null    int64  \n",
            " 4   chol      303 non-null    int64  \n",
            " 5   fbs       303 non-null    int64  \n",
            " 6   restecg   303 non-null    int64  \n",
            " 7   thalachh  303 non-null    int64  \n",
            " 8   exng      303 non-null    int64  \n",
            " 9   oldpeak   303 non-null    float64\n",
            " 10  slp       303 non-null    int64  \n",
            " 11  caa       303 non-null    int64  \n",
            " 12  thall     303 non-null    int64  \n",
            " 13  output    303 non-null    int64  \n",
            "dtypes: float64(1), int64(13)\n",
            "memory usage: 33.3 KB\n"
          ]
        }
      ]
    },
    {
      "cell_type": "code",
      "source": [
        "#checking null value \n",
        "df.isna().sum()"
      ],
      "metadata": {
        "papermill": {
          "duration": 0.04435,
          "end_time": "2022-05-14T15:49:11.644472",
          "exception": false,
          "start_time": "2022-05-14T15:49:11.600122",
          "status": "completed"
        },
        "tags": [],
        "execution": {
          "iopub.status.busy": "2022-05-14T18:38:02.804816Z",
          "iopub.execute_input": "2022-05-14T18:38:02.80502Z",
          "iopub.status.idle": "2022-05-14T18:38:02.81838Z",
          "shell.execute_reply.started": "2022-05-14T18:38:02.804994Z",
          "shell.execute_reply": "2022-05-14T18:38:02.817694Z"
        },
        "trusted": true,
        "colab": {
          "base_uri": "https://localhost:8080/"
        },
        "id": "xPfTnOiTJfZs",
        "outputId": "825dbb67-539e-48b7-ef26-a107f6295e08"
      },
      "execution_count": 5,
      "outputs": [
        {
          "output_type": "execute_result",
          "data": {
            "text/plain": [
              "age         0\n",
              "sex         0\n",
              "cp          0\n",
              "trtbps      0\n",
              "chol        0\n",
              "fbs         0\n",
              "restecg     0\n",
              "thalachh    0\n",
              "exng        0\n",
              "oldpeak     0\n",
              "slp         0\n",
              "caa         0\n",
              "thall       0\n",
              "output      0\n",
              "dtype: int64"
            ]
          },
          "metadata": {},
          "execution_count": 5
        }
      ]
    },
    {
      "cell_type": "markdown",
      "source": [
        "- No any missing value "
      ],
      "metadata": {
        "papermill": {
          "duration": 0.034063,
          "end_time": "2022-05-14T15:49:11.712671",
          "exception": false,
          "start_time": "2022-05-14T15:49:11.678608",
          "status": "completed"
        },
        "tags": [],
        "id": "In5wv8bHJfZt"
      }
    },
    {
      "cell_type": "code",
      "source": [
        "# look  describe data set\n",
        "df.describe().round(2)"
      ],
      "metadata": {
        "papermill": {
          "duration": 0.104226,
          "end_time": "2022-05-14T15:49:11.85005",
          "exception": false,
          "start_time": "2022-05-14T15:49:11.745824",
          "status": "completed"
        },
        "tags": [],
        "execution": {
          "iopub.status.busy": "2022-05-14T18:38:02.819766Z",
          "iopub.execute_input": "2022-05-14T18:38:02.820293Z",
          "iopub.status.idle": "2022-05-14T18:38:02.882787Z",
          "shell.execute_reply.started": "2022-05-14T18:38:02.820236Z",
          "shell.execute_reply": "2022-05-14T18:38:02.881891Z"
        },
        "trusted": true,
        "colab": {
          "base_uri": "https://localhost:8080/",
          "height": 300
        },
        "id": "CIQHfdjmJfZt",
        "outputId": "ae47bf9f-c22a-444e-c06b-cd23ec623d7f"
      },
      "execution_count": 6,
      "outputs": [
        {
          "output_type": "execute_result",
          "data": {
            "text/plain": [
              "          age     sex      cp  trtbps    chol     fbs  restecg  thalachh  \\\n",
              "count  303.00  303.00  303.00  303.00  303.00  303.00   303.00    303.00   \n",
              "mean    54.37    0.68    0.97  131.62  246.26    0.15     0.53    149.65   \n",
              "std      9.08    0.47    1.03   17.54   51.83    0.36     0.53     22.91   \n",
              "min     29.00    0.00    0.00   94.00  126.00    0.00     0.00     71.00   \n",
              "25%     47.50    0.00    0.00  120.00  211.00    0.00     0.00    133.50   \n",
              "50%     55.00    1.00    1.00  130.00  240.00    0.00     1.00    153.00   \n",
              "75%     61.00    1.00    2.00  140.00  274.50    0.00     1.00    166.00   \n",
              "max     77.00    1.00    3.00  200.00  564.00    1.00     2.00    202.00   \n",
              "\n",
              "         exng  oldpeak     slp     caa   thall  output  \n",
              "count  303.00   303.00  303.00  303.00  303.00  303.00  \n",
              "mean     0.33     1.04    1.40    0.73    2.31    0.54  \n",
              "std      0.47     1.16    0.62    1.02    0.61    0.50  \n",
              "min      0.00     0.00    0.00    0.00    0.00    0.00  \n",
              "25%      0.00     0.00    1.00    0.00    2.00    0.00  \n",
              "50%      0.00     0.80    1.00    0.00    2.00    1.00  \n",
              "75%      1.00     1.60    2.00    1.00    3.00    1.00  \n",
              "max      1.00     6.20    2.00    4.00    3.00    1.00  "
            ],
            "text/html": [
              "\n",
              "  <div id=\"df-42151184-f7a1-44b9-aee6-51dafbc0e024\">\n",
              "    <div class=\"colab-df-container\">\n",
              "      <div>\n",
              "<style scoped>\n",
              "    .dataframe tbody tr th:only-of-type {\n",
              "        vertical-align: middle;\n",
              "    }\n",
              "\n",
              "    .dataframe tbody tr th {\n",
              "        vertical-align: top;\n",
              "    }\n",
              "\n",
              "    .dataframe thead th {\n",
              "        text-align: right;\n",
              "    }\n",
              "</style>\n",
              "<table border=\"1\" class=\"dataframe\">\n",
              "  <thead>\n",
              "    <tr style=\"text-align: right;\">\n",
              "      <th></th>\n",
              "      <th>age</th>\n",
              "      <th>sex</th>\n",
              "      <th>cp</th>\n",
              "      <th>trtbps</th>\n",
              "      <th>chol</th>\n",
              "      <th>fbs</th>\n",
              "      <th>restecg</th>\n",
              "      <th>thalachh</th>\n",
              "      <th>exng</th>\n",
              "      <th>oldpeak</th>\n",
              "      <th>slp</th>\n",
              "      <th>caa</th>\n",
              "      <th>thall</th>\n",
              "      <th>output</th>\n",
              "    </tr>\n",
              "  </thead>\n",
              "  <tbody>\n",
              "    <tr>\n",
              "      <th>count</th>\n",
              "      <td>303.00</td>\n",
              "      <td>303.00</td>\n",
              "      <td>303.00</td>\n",
              "      <td>303.00</td>\n",
              "      <td>303.00</td>\n",
              "      <td>303.00</td>\n",
              "      <td>303.00</td>\n",
              "      <td>303.00</td>\n",
              "      <td>303.00</td>\n",
              "      <td>303.00</td>\n",
              "      <td>303.00</td>\n",
              "      <td>303.00</td>\n",
              "      <td>303.00</td>\n",
              "      <td>303.00</td>\n",
              "    </tr>\n",
              "    <tr>\n",
              "      <th>mean</th>\n",
              "      <td>54.37</td>\n",
              "      <td>0.68</td>\n",
              "      <td>0.97</td>\n",
              "      <td>131.62</td>\n",
              "      <td>246.26</td>\n",
              "      <td>0.15</td>\n",
              "      <td>0.53</td>\n",
              "      <td>149.65</td>\n",
              "      <td>0.33</td>\n",
              "      <td>1.04</td>\n",
              "      <td>1.40</td>\n",
              "      <td>0.73</td>\n",
              "      <td>2.31</td>\n",
              "      <td>0.54</td>\n",
              "    </tr>\n",
              "    <tr>\n",
              "      <th>std</th>\n",
              "      <td>9.08</td>\n",
              "      <td>0.47</td>\n",
              "      <td>1.03</td>\n",
              "      <td>17.54</td>\n",
              "      <td>51.83</td>\n",
              "      <td>0.36</td>\n",
              "      <td>0.53</td>\n",
              "      <td>22.91</td>\n",
              "      <td>0.47</td>\n",
              "      <td>1.16</td>\n",
              "      <td>0.62</td>\n",
              "      <td>1.02</td>\n",
              "      <td>0.61</td>\n",
              "      <td>0.50</td>\n",
              "    </tr>\n",
              "    <tr>\n",
              "      <th>min</th>\n",
              "      <td>29.00</td>\n",
              "      <td>0.00</td>\n",
              "      <td>0.00</td>\n",
              "      <td>94.00</td>\n",
              "      <td>126.00</td>\n",
              "      <td>0.00</td>\n",
              "      <td>0.00</td>\n",
              "      <td>71.00</td>\n",
              "      <td>0.00</td>\n",
              "      <td>0.00</td>\n",
              "      <td>0.00</td>\n",
              "      <td>0.00</td>\n",
              "      <td>0.00</td>\n",
              "      <td>0.00</td>\n",
              "    </tr>\n",
              "    <tr>\n",
              "      <th>25%</th>\n",
              "      <td>47.50</td>\n",
              "      <td>0.00</td>\n",
              "      <td>0.00</td>\n",
              "      <td>120.00</td>\n",
              "      <td>211.00</td>\n",
              "      <td>0.00</td>\n",
              "      <td>0.00</td>\n",
              "      <td>133.50</td>\n",
              "      <td>0.00</td>\n",
              "      <td>0.00</td>\n",
              "      <td>1.00</td>\n",
              "      <td>0.00</td>\n",
              "      <td>2.00</td>\n",
              "      <td>0.00</td>\n",
              "    </tr>\n",
              "    <tr>\n",
              "      <th>50%</th>\n",
              "      <td>55.00</td>\n",
              "      <td>1.00</td>\n",
              "      <td>1.00</td>\n",
              "      <td>130.00</td>\n",
              "      <td>240.00</td>\n",
              "      <td>0.00</td>\n",
              "      <td>1.00</td>\n",
              "      <td>153.00</td>\n",
              "      <td>0.00</td>\n",
              "      <td>0.80</td>\n",
              "      <td>1.00</td>\n",
              "      <td>0.00</td>\n",
              "      <td>2.00</td>\n",
              "      <td>1.00</td>\n",
              "    </tr>\n",
              "    <tr>\n",
              "      <th>75%</th>\n",
              "      <td>61.00</td>\n",
              "      <td>1.00</td>\n",
              "      <td>2.00</td>\n",
              "      <td>140.00</td>\n",
              "      <td>274.50</td>\n",
              "      <td>0.00</td>\n",
              "      <td>1.00</td>\n",
              "      <td>166.00</td>\n",
              "      <td>1.00</td>\n",
              "      <td>1.60</td>\n",
              "      <td>2.00</td>\n",
              "      <td>1.00</td>\n",
              "      <td>3.00</td>\n",
              "      <td>1.00</td>\n",
              "    </tr>\n",
              "    <tr>\n",
              "      <th>max</th>\n",
              "      <td>77.00</td>\n",
              "      <td>1.00</td>\n",
              "      <td>3.00</td>\n",
              "      <td>200.00</td>\n",
              "      <td>564.00</td>\n",
              "      <td>1.00</td>\n",
              "      <td>2.00</td>\n",
              "      <td>202.00</td>\n",
              "      <td>1.00</td>\n",
              "      <td>6.20</td>\n",
              "      <td>2.00</td>\n",
              "      <td>4.00</td>\n",
              "      <td>3.00</td>\n",
              "      <td>1.00</td>\n",
              "    </tr>\n",
              "  </tbody>\n",
              "</table>\n",
              "</div>\n",
              "      <button class=\"colab-df-convert\" onclick=\"convertToInteractive('df-42151184-f7a1-44b9-aee6-51dafbc0e024')\"\n",
              "              title=\"Convert this dataframe to an interactive table.\"\n",
              "              style=\"display:none;\">\n",
              "        \n",
              "  <svg xmlns=\"http://www.w3.org/2000/svg\" height=\"24px\"viewBox=\"0 0 24 24\"\n",
              "       width=\"24px\">\n",
              "    <path d=\"M0 0h24v24H0V0z\" fill=\"none\"/>\n",
              "    <path d=\"M18.56 5.44l.94 2.06.94-2.06 2.06-.94-2.06-.94-.94-2.06-.94 2.06-2.06.94zm-11 1L8.5 8.5l.94-2.06 2.06-.94-2.06-.94L8.5 2.5l-.94 2.06-2.06.94zm10 10l.94 2.06.94-2.06 2.06-.94-2.06-.94-.94-2.06-.94 2.06-2.06.94z\"/><path d=\"M17.41 7.96l-1.37-1.37c-.4-.4-.92-.59-1.43-.59-.52 0-1.04.2-1.43.59L10.3 9.45l-7.72 7.72c-.78.78-.78 2.05 0 2.83L4 21.41c.39.39.9.59 1.41.59.51 0 1.02-.2 1.41-.59l7.78-7.78 2.81-2.81c.8-.78.8-2.07 0-2.86zM5.41 20L4 18.59l7.72-7.72 1.47 1.35L5.41 20z\"/>\n",
              "  </svg>\n",
              "      </button>\n",
              "      \n",
              "  <style>\n",
              "    .colab-df-container {\n",
              "      display:flex;\n",
              "      flex-wrap:wrap;\n",
              "      gap: 12px;\n",
              "    }\n",
              "\n",
              "    .colab-df-convert {\n",
              "      background-color: #E8F0FE;\n",
              "      border: none;\n",
              "      border-radius: 50%;\n",
              "      cursor: pointer;\n",
              "      display: none;\n",
              "      fill: #1967D2;\n",
              "      height: 32px;\n",
              "      padding: 0 0 0 0;\n",
              "      width: 32px;\n",
              "    }\n",
              "\n",
              "    .colab-df-convert:hover {\n",
              "      background-color: #E2EBFA;\n",
              "      box-shadow: 0px 1px 2px rgba(60, 64, 67, 0.3), 0px 1px 3px 1px rgba(60, 64, 67, 0.15);\n",
              "      fill: #174EA6;\n",
              "    }\n",
              "\n",
              "    [theme=dark] .colab-df-convert {\n",
              "      background-color: #3B4455;\n",
              "      fill: #D2E3FC;\n",
              "    }\n",
              "\n",
              "    [theme=dark] .colab-df-convert:hover {\n",
              "      background-color: #434B5C;\n",
              "      box-shadow: 0px 1px 3px 1px rgba(0, 0, 0, 0.15);\n",
              "      filter: drop-shadow(0px 1px 2px rgba(0, 0, 0, 0.3));\n",
              "      fill: #FFFFFF;\n",
              "    }\n",
              "  </style>\n",
              "\n",
              "      <script>\n",
              "        const buttonEl =\n",
              "          document.querySelector('#df-42151184-f7a1-44b9-aee6-51dafbc0e024 button.colab-df-convert');\n",
              "        buttonEl.style.display =\n",
              "          google.colab.kernel.accessAllowed ? 'block' : 'none';\n",
              "\n",
              "        async function convertToInteractive(key) {\n",
              "          const element = document.querySelector('#df-42151184-f7a1-44b9-aee6-51dafbc0e024');\n",
              "          const dataTable =\n",
              "            await google.colab.kernel.invokeFunction('convertToInteractive',\n",
              "                                                     [key], {});\n",
              "          if (!dataTable) return;\n",
              "\n",
              "          const docLinkHtml = 'Like what you see? Visit the ' +\n",
              "            '<a target=\"_blank\" href=https://colab.research.google.com/notebooks/data_table.ipynb>data table notebook</a>'\n",
              "            + ' to learn more about interactive tables.';\n",
              "          element.innerHTML = '';\n",
              "          dataTable['output_type'] = 'display_data';\n",
              "          await google.colab.output.renderOutput(dataTable, element);\n",
              "          const docLink = document.createElement('div');\n",
              "          docLink.innerHTML = docLinkHtml;\n",
              "          element.appendChild(docLink);\n",
              "        }\n",
              "      </script>\n",
              "    </div>\n",
              "  </div>\n",
              "  "
            ]
          },
          "metadata": {},
          "execution_count": 6
        }
      ]
    },
    {
      "cell_type": "code",
      "source": [
        "# check unique value\n",
        "df.nunique().sort_values()"
      ],
      "metadata": {
        "papermill": {
          "duration": 0.056148,
          "end_time": "2022-05-14T15:49:11.944712",
          "exception": false,
          "start_time": "2022-05-14T15:49:11.888564",
          "status": "completed"
        },
        "tags": [],
        "execution": {
          "iopub.status.busy": "2022-05-14T18:38:02.884003Z",
          "iopub.execute_input": "2022-05-14T18:38:02.885663Z",
          "iopub.status.idle": "2022-05-14T18:38:02.896593Z",
          "shell.execute_reply.started": "2022-05-14T18:38:02.88562Z",
          "shell.execute_reply": "2022-05-14T18:38:02.895877Z"
        },
        "trusted": true,
        "colab": {
          "base_uri": "https://localhost:8080/"
        },
        "id": "N3E3UNdlJfZu",
        "outputId": "30452e11-bf4e-44f7-acb1-866b28698ee2"
      },
      "execution_count": 7,
      "outputs": [
        {
          "output_type": "execute_result",
          "data": {
            "text/plain": [
              "sex           2\n",
              "fbs           2\n",
              "exng          2\n",
              "output        2\n",
              "restecg       3\n",
              "slp           3\n",
              "cp            4\n",
              "thall         4\n",
              "caa           5\n",
              "oldpeak      40\n",
              "age          41\n",
              "trtbps       49\n",
              "thalachh     91\n",
              "chol        152\n",
              "dtype: int64"
            ]
          },
          "metadata": {},
          "execution_count": 7
        }
      ]
    },
    {
      "cell_type": "markdown",
      "source": [
        "## Some visual for Analysis"
      ],
      "metadata": {
        "papermill": {
          "duration": 0.035095,
          "end_time": "2022-05-14T15:49:12.017764",
          "exception": false,
          "start_time": "2022-05-14T15:49:11.982669",
          "status": "completed"
        },
        "tags": [],
        "id": "6gaA4yARJfZu"
      }
    },
    {
      "cell_type": "code",
      "source": [
        "# interactive graph between Age and cholesterol in mg/dl\n",
        "\n",
        "px.scatter(df,x=\"age\",y=\"chol\",color=\"output\",title=\"Influence Age and cholesterol\")"
      ],
      "metadata": {
        "papermill": {
          "duration": 1.376817,
          "end_time": "2022-05-14T15:49:13.430168",
          "exception": false,
          "start_time": "2022-05-14T15:49:12.053351",
          "status": "completed"
        },
        "tags": [],
        "execution": {
          "iopub.status.busy": "2022-05-14T18:38:02.898385Z",
          "iopub.execute_input": "2022-05-14T18:38:02.899063Z",
          "iopub.status.idle": "2022-05-14T18:38:03.993182Z",
          "shell.execute_reply.started": "2022-05-14T18:38:02.899018Z",
          "shell.execute_reply": "2022-05-14T18:38:03.992385Z"
        },
        "trusted": true,
        "colab": {
          "base_uri": "https://localhost:8080/",
          "height": 542
        },
        "id": "2W9quRdKJfZu",
        "outputId": "cf614b69-6d5a-4a40-bbf2-3face2c3c80f"
      },
      "execution_count": 8,
      "outputs": [
        {
          "output_type": "display_data",
          "data": {
            "text/html": [
              "<html>\n",
              "<head><meta charset=\"utf-8\" /></head>\n",
              "<body>\n",
              "    <div>            <script src=\"https://cdnjs.cloudflare.com/ajax/libs/mathjax/2.7.5/MathJax.js?config=TeX-AMS-MML_SVG\"></script><script type=\"text/javascript\">if (window.MathJax) {MathJax.Hub.Config({SVG: {font: \"STIX-Web\"}});}</script>                <script type=\"text/javascript\">window.PlotlyConfig = {MathJaxConfig: 'local'};</script>\n",
              "        <script src=\"https://cdn.plot.ly/plotly-2.8.3.min.js\"></script>                <div id=\"139ec93c-a5c0-457e-92a1-885e8035ddf7\" class=\"plotly-graph-div\" style=\"height:525px; width:100%;\"></div>            <script type=\"text/javascript\">                                    window.PLOTLYENV=window.PLOTLYENV || {};                                    if (document.getElementById(\"139ec93c-a5c0-457e-92a1-885e8035ddf7\")) {                    Plotly.newPlot(                        \"139ec93c-a5c0-457e-92a1-885e8035ddf7\",                        [{\"hovertemplate\":\"age=%{x}<br>chol=%{y}<br>output=%{marker.color}<extra></extra>\",\"legendgroup\":\"\",\"marker\":{\"color\":[1,1,1,1,1,1,1,1,1,1,1,1,1,1,1,1,1,1,1,1,1,1,1,1,1,1,1,1,1,1,1,1,1,1,1,1,1,1,1,1,1,1,1,1,1,1,1,1,1,1,1,1,1,1,1,1,1,1,1,1,1,1,1,1,1,1,1,1,1,1,1,1,1,1,1,1,1,1,1,1,1,1,1,1,1,1,1,1,1,1,1,1,1,1,1,1,1,1,1,1,1,1,1,1,1,1,1,1,1,1,1,1,1,1,1,1,1,1,1,1,1,1,1,1,1,1,1,1,1,1,1,1,1,1,1,1,1,1,1,1,1,1,1,1,1,1,1,1,1,1,1,1,1,1,1,1,1,1,1,1,1,1,1,1,1,0,0,0,0,0,0,0,0,0,0,0,0,0,0,0,0,0,0,0,0,0,0,0,0,0,0,0,0,0,0,0,0,0,0,0,0,0,0,0,0,0,0,0,0,0,0,0,0,0,0,0,0,0,0,0,0,0,0,0,0,0,0,0,0,0,0,0,0,0,0,0,0,0,0,0,0,0,0,0,0,0,0,0,0,0,0,0,0,0,0,0,0,0,0,0,0,0,0,0,0,0,0,0,0,0,0,0,0,0,0,0,0,0,0,0,0,0,0,0,0,0,0,0,0,0,0,0,0,0,0,0,0,0,0,0,0,0,0],\"coloraxis\":\"coloraxis\",\"symbol\":\"circle\"},\"mode\":\"markers\",\"name\":\"\",\"orientation\":\"v\",\"showlegend\":false,\"x\":[63,37,41,56,57,57,56,44,52,57,54,48,49,64,58,50,58,66,43,69,59,44,42,61,40,71,59,51,65,53,41,65,44,54,51,46,54,54,65,65,51,48,45,53,39,52,44,47,53,53,51,66,62,44,63,52,48,45,34,57,71,54,52,41,58,35,51,45,44,62,54,51,29,51,43,55,51,59,52,58,41,45,60,52,42,67,68,46,54,58,48,57,52,54,45,53,62,52,43,53,42,59,63,42,50,68,69,45,50,50,64,57,64,43,55,37,41,56,46,46,64,59,41,54,39,34,47,67,52,74,54,49,42,41,41,49,60,62,57,64,51,43,42,67,76,70,44,60,44,42,66,71,64,66,39,58,47,35,58,56,56,55,41,38,38,67,67,62,63,53,56,48,58,58,60,40,60,64,43,57,55,65,61,58,50,44,60,54,50,41,51,58,54,60,60,59,46,67,62,65,44,60,58,68,62,52,59,60,49,59,57,61,39,61,56,43,62,63,65,48,63,55,65,56,54,70,62,35,59,64,47,57,55,64,70,51,58,60,77,35,70,59,64,57,56,48,56,66,54,69,51,43,62,67,59,45,58,50,62,38,66,52,53,63,54,66,55,49,54,56,46,61,67,58,47,52,58,57,58,61,42,52,59,40,61,46,59,57,57,55,61,58,58,67,44,63,63,59,57,45,68,57,57],\"xaxis\":\"x\",\"y\":[233,250,204,236,354,192,294,263,199,168,239,275,266,211,283,219,340,226,247,239,234,233,226,243,199,302,212,175,417,197,198,177,219,273,213,177,304,232,269,360,308,245,208,264,321,325,235,257,216,234,256,302,231,141,252,201,222,260,182,303,265,309,186,203,211,183,222,234,220,209,258,227,204,261,213,250,245,221,205,240,250,308,318,298,265,564,277,197,214,248,255,207,223,288,160,226,394,233,315,246,244,270,195,240,196,211,234,236,244,254,325,126,313,211,262,215,214,193,204,243,303,271,268,267,199,210,204,277,196,269,201,271,295,235,306,269,178,208,201,263,295,303,209,223,197,245,242,240,226,180,228,149,227,278,220,197,253,192,220,221,240,342,157,175,175,286,229,268,254,203,256,229,284,224,206,167,230,335,177,276,353,225,330,230,243,290,253,266,233,172,305,216,188,282,185,326,231,254,267,248,197,258,270,274,164,255,239,258,188,177,229,260,219,307,249,341,263,330,254,256,407,217,282,288,239,174,281,198,288,309,243,289,289,246,322,299,300,293,304,282,269,249,212,274,184,274,409,246,283,254,298,247,294,299,273,309,259,200,244,231,228,230,282,269,206,212,327,149,286,283,249,234,237,234,275,212,218,261,319,166,315,204,218,223,207,311,204,232,335,205,203,318,225,212,169,187,197,176,241,264,193,131,236],\"yaxis\":\"y\",\"type\":\"scatter\"}],                        {\"template\":{\"data\":{\"bar\":[{\"error_x\":{\"color\":\"#2a3f5f\"},\"error_y\":{\"color\":\"#2a3f5f\"},\"marker\":{\"line\":{\"color\":\"#E5ECF6\",\"width\":0.5},\"pattern\":{\"fillmode\":\"overlay\",\"size\":10,\"solidity\":0.2}},\"type\":\"bar\"}],\"barpolar\":[{\"marker\":{\"line\":{\"color\":\"#E5ECF6\",\"width\":0.5},\"pattern\":{\"fillmode\":\"overlay\",\"size\":10,\"solidity\":0.2}},\"type\":\"barpolar\"}],\"carpet\":[{\"aaxis\":{\"endlinecolor\":\"#2a3f5f\",\"gridcolor\":\"white\",\"linecolor\":\"white\",\"minorgridcolor\":\"white\",\"startlinecolor\":\"#2a3f5f\"},\"baxis\":{\"endlinecolor\":\"#2a3f5f\",\"gridcolor\":\"white\",\"linecolor\":\"white\",\"minorgridcolor\":\"white\",\"startlinecolor\":\"#2a3f5f\"},\"type\":\"carpet\"}],\"choropleth\":[{\"colorbar\":{\"outlinewidth\":0,\"ticks\":\"\"},\"type\":\"choropleth\"}],\"contour\":[{\"colorbar\":{\"outlinewidth\":0,\"ticks\":\"\"},\"colorscale\":[[0.0,\"#0d0887\"],[0.1111111111111111,\"#46039f\"],[0.2222222222222222,\"#7201a8\"],[0.3333333333333333,\"#9c179e\"],[0.4444444444444444,\"#bd3786\"],[0.5555555555555556,\"#d8576b\"],[0.6666666666666666,\"#ed7953\"],[0.7777777777777778,\"#fb9f3a\"],[0.8888888888888888,\"#fdca26\"],[1.0,\"#f0f921\"]],\"type\":\"contour\"}],\"contourcarpet\":[{\"colorbar\":{\"outlinewidth\":0,\"ticks\":\"\"},\"type\":\"contourcarpet\"}],\"heatmap\":[{\"colorbar\":{\"outlinewidth\":0,\"ticks\":\"\"},\"colorscale\":[[0.0,\"#0d0887\"],[0.1111111111111111,\"#46039f\"],[0.2222222222222222,\"#7201a8\"],[0.3333333333333333,\"#9c179e\"],[0.4444444444444444,\"#bd3786\"],[0.5555555555555556,\"#d8576b\"],[0.6666666666666666,\"#ed7953\"],[0.7777777777777778,\"#fb9f3a\"],[0.8888888888888888,\"#fdca26\"],[1.0,\"#f0f921\"]],\"type\":\"heatmap\"}],\"heatmapgl\":[{\"colorbar\":{\"outlinewidth\":0,\"ticks\":\"\"},\"colorscale\":[[0.0,\"#0d0887\"],[0.1111111111111111,\"#46039f\"],[0.2222222222222222,\"#7201a8\"],[0.3333333333333333,\"#9c179e\"],[0.4444444444444444,\"#bd3786\"],[0.5555555555555556,\"#d8576b\"],[0.6666666666666666,\"#ed7953\"],[0.7777777777777778,\"#fb9f3a\"],[0.8888888888888888,\"#fdca26\"],[1.0,\"#f0f921\"]],\"type\":\"heatmapgl\"}],\"histogram\":[{\"marker\":{\"pattern\":{\"fillmode\":\"overlay\",\"size\":10,\"solidity\":0.2}},\"type\":\"histogram\"}],\"histogram2d\":[{\"colorbar\":{\"outlinewidth\":0,\"ticks\":\"\"},\"colorscale\":[[0.0,\"#0d0887\"],[0.1111111111111111,\"#46039f\"],[0.2222222222222222,\"#7201a8\"],[0.3333333333333333,\"#9c179e\"],[0.4444444444444444,\"#bd3786\"],[0.5555555555555556,\"#d8576b\"],[0.6666666666666666,\"#ed7953\"],[0.7777777777777778,\"#fb9f3a\"],[0.8888888888888888,\"#fdca26\"],[1.0,\"#f0f921\"]],\"type\":\"histogram2d\"}],\"histogram2dcontour\":[{\"colorbar\":{\"outlinewidth\":0,\"ticks\":\"\"},\"colorscale\":[[0.0,\"#0d0887\"],[0.1111111111111111,\"#46039f\"],[0.2222222222222222,\"#7201a8\"],[0.3333333333333333,\"#9c179e\"],[0.4444444444444444,\"#bd3786\"],[0.5555555555555556,\"#d8576b\"],[0.6666666666666666,\"#ed7953\"],[0.7777777777777778,\"#fb9f3a\"],[0.8888888888888888,\"#fdca26\"],[1.0,\"#f0f921\"]],\"type\":\"histogram2dcontour\"}],\"mesh3d\":[{\"colorbar\":{\"outlinewidth\":0,\"ticks\":\"\"},\"type\":\"mesh3d\"}],\"parcoords\":[{\"line\":{\"colorbar\":{\"outlinewidth\":0,\"ticks\":\"\"}},\"type\":\"parcoords\"}],\"pie\":[{\"automargin\":true,\"type\":\"pie\"}],\"scatter\":[{\"marker\":{\"colorbar\":{\"outlinewidth\":0,\"ticks\":\"\"}},\"type\":\"scatter\"}],\"scatter3d\":[{\"line\":{\"colorbar\":{\"outlinewidth\":0,\"ticks\":\"\"}},\"marker\":{\"colorbar\":{\"outlinewidth\":0,\"ticks\":\"\"}},\"type\":\"scatter3d\"}],\"scattercarpet\":[{\"marker\":{\"colorbar\":{\"outlinewidth\":0,\"ticks\":\"\"}},\"type\":\"scattercarpet\"}],\"scattergeo\":[{\"marker\":{\"colorbar\":{\"outlinewidth\":0,\"ticks\":\"\"}},\"type\":\"scattergeo\"}],\"scattergl\":[{\"marker\":{\"colorbar\":{\"outlinewidth\":0,\"ticks\":\"\"}},\"type\":\"scattergl\"}],\"scattermapbox\":[{\"marker\":{\"colorbar\":{\"outlinewidth\":0,\"ticks\":\"\"}},\"type\":\"scattermapbox\"}],\"scatterpolar\":[{\"marker\":{\"colorbar\":{\"outlinewidth\":0,\"ticks\":\"\"}},\"type\":\"scatterpolar\"}],\"scatterpolargl\":[{\"marker\":{\"colorbar\":{\"outlinewidth\":0,\"ticks\":\"\"}},\"type\":\"scatterpolargl\"}],\"scatterternary\":[{\"marker\":{\"colorbar\":{\"outlinewidth\":0,\"ticks\":\"\"}},\"type\":\"scatterternary\"}],\"surface\":[{\"colorbar\":{\"outlinewidth\":0,\"ticks\":\"\"},\"colorscale\":[[0.0,\"#0d0887\"],[0.1111111111111111,\"#46039f\"],[0.2222222222222222,\"#7201a8\"],[0.3333333333333333,\"#9c179e\"],[0.4444444444444444,\"#bd3786\"],[0.5555555555555556,\"#d8576b\"],[0.6666666666666666,\"#ed7953\"],[0.7777777777777778,\"#fb9f3a\"],[0.8888888888888888,\"#fdca26\"],[1.0,\"#f0f921\"]],\"type\":\"surface\"}],\"table\":[{\"cells\":{\"fill\":{\"color\":\"#EBF0F8\"},\"line\":{\"color\":\"white\"}},\"header\":{\"fill\":{\"color\":\"#C8D4E3\"},\"line\":{\"color\":\"white\"}},\"type\":\"table\"}]},\"layout\":{\"annotationdefaults\":{\"arrowcolor\":\"#2a3f5f\",\"arrowhead\":0,\"arrowwidth\":1},\"autotypenumbers\":\"strict\",\"coloraxis\":{\"colorbar\":{\"outlinewidth\":0,\"ticks\":\"\"}},\"colorscale\":{\"diverging\":[[0,\"#8e0152\"],[0.1,\"#c51b7d\"],[0.2,\"#de77ae\"],[0.3,\"#f1b6da\"],[0.4,\"#fde0ef\"],[0.5,\"#f7f7f7\"],[0.6,\"#e6f5d0\"],[0.7,\"#b8e186\"],[0.8,\"#7fbc41\"],[0.9,\"#4d9221\"],[1,\"#276419\"]],\"sequential\":[[0.0,\"#0d0887\"],[0.1111111111111111,\"#46039f\"],[0.2222222222222222,\"#7201a8\"],[0.3333333333333333,\"#9c179e\"],[0.4444444444444444,\"#bd3786\"],[0.5555555555555556,\"#d8576b\"],[0.6666666666666666,\"#ed7953\"],[0.7777777777777778,\"#fb9f3a\"],[0.8888888888888888,\"#fdca26\"],[1.0,\"#f0f921\"]],\"sequentialminus\":[[0.0,\"#0d0887\"],[0.1111111111111111,\"#46039f\"],[0.2222222222222222,\"#7201a8\"],[0.3333333333333333,\"#9c179e\"],[0.4444444444444444,\"#bd3786\"],[0.5555555555555556,\"#d8576b\"],[0.6666666666666666,\"#ed7953\"],[0.7777777777777778,\"#fb9f3a\"],[0.8888888888888888,\"#fdca26\"],[1.0,\"#f0f921\"]]},\"colorway\":[\"#636efa\",\"#EF553B\",\"#00cc96\",\"#ab63fa\",\"#FFA15A\",\"#19d3f3\",\"#FF6692\",\"#B6E880\",\"#FF97FF\",\"#FECB52\"],\"font\":{\"color\":\"#2a3f5f\"},\"geo\":{\"bgcolor\":\"white\",\"lakecolor\":\"white\",\"landcolor\":\"#E5ECF6\",\"showlakes\":true,\"showland\":true,\"subunitcolor\":\"white\"},\"hoverlabel\":{\"align\":\"left\"},\"hovermode\":\"closest\",\"mapbox\":{\"style\":\"light\"},\"paper_bgcolor\":\"white\",\"plot_bgcolor\":\"#E5ECF6\",\"polar\":{\"angularaxis\":{\"gridcolor\":\"white\",\"linecolor\":\"white\",\"ticks\":\"\"},\"bgcolor\":\"#E5ECF6\",\"radialaxis\":{\"gridcolor\":\"white\",\"linecolor\":\"white\",\"ticks\":\"\"}},\"scene\":{\"xaxis\":{\"backgroundcolor\":\"#E5ECF6\",\"gridcolor\":\"white\",\"gridwidth\":2,\"linecolor\":\"white\",\"showbackground\":true,\"ticks\":\"\",\"zerolinecolor\":\"white\"},\"yaxis\":{\"backgroundcolor\":\"#E5ECF6\",\"gridcolor\":\"white\",\"gridwidth\":2,\"linecolor\":\"white\",\"showbackground\":true,\"ticks\":\"\",\"zerolinecolor\":\"white\"},\"zaxis\":{\"backgroundcolor\":\"#E5ECF6\",\"gridcolor\":\"white\",\"gridwidth\":2,\"linecolor\":\"white\",\"showbackground\":true,\"ticks\":\"\",\"zerolinecolor\":\"white\"}},\"shapedefaults\":{\"line\":{\"color\":\"#2a3f5f\"}},\"ternary\":{\"aaxis\":{\"gridcolor\":\"white\",\"linecolor\":\"white\",\"ticks\":\"\"},\"baxis\":{\"gridcolor\":\"white\",\"linecolor\":\"white\",\"ticks\":\"\"},\"bgcolor\":\"#E5ECF6\",\"caxis\":{\"gridcolor\":\"white\",\"linecolor\":\"white\",\"ticks\":\"\"}},\"title\":{\"x\":0.05},\"xaxis\":{\"automargin\":true,\"gridcolor\":\"white\",\"linecolor\":\"white\",\"ticks\":\"\",\"title\":{\"standoff\":15},\"zerolinecolor\":\"white\",\"zerolinewidth\":2},\"yaxis\":{\"automargin\":true,\"gridcolor\":\"white\",\"linecolor\":\"white\",\"ticks\":\"\",\"title\":{\"standoff\":15},\"zerolinecolor\":\"white\",\"zerolinewidth\":2}}},\"xaxis\":{\"anchor\":\"y\",\"domain\":[0.0,1.0],\"title\":{\"text\":\"age\"}},\"yaxis\":{\"anchor\":\"x\",\"domain\":[0.0,1.0],\"title\":{\"text\":\"chol\"}},\"coloraxis\":{\"colorbar\":{\"title\":{\"text\":\"output\"}},\"colorscale\":[[0.0,\"#0d0887\"],[0.1111111111111111,\"#46039f\"],[0.2222222222222222,\"#7201a8\"],[0.3333333333333333,\"#9c179e\"],[0.4444444444444444,\"#bd3786\"],[0.5555555555555556,\"#d8576b\"],[0.6666666666666666,\"#ed7953\"],[0.7777777777777778,\"#fb9f3a\"],[0.8888888888888888,\"#fdca26\"],[1.0,\"#f0f921\"]]},\"legend\":{\"tracegroupgap\":0},\"title\":{\"text\":\"Influence Age and cholesterol\"}},                        {\"responsive\": true}                    ).then(function(){\n",
              "                            \n",
              "var gd = document.getElementById('139ec93c-a5c0-457e-92a1-885e8035ddf7');\n",
              "var x = new MutationObserver(function (mutations, observer) {{\n",
              "        var display = window.getComputedStyle(gd).display;\n",
              "        if (!display || display === 'none') {{\n",
              "            console.log([gd, 'removed!']);\n",
              "            Plotly.purge(gd);\n",
              "            observer.disconnect();\n",
              "        }}\n",
              "}});\n",
              "\n",
              "// Listen for the removal of the full notebook cells\n",
              "var notebookContainer = gd.closest('#notebook-container');\n",
              "if (notebookContainer) {{\n",
              "    x.observe(notebookContainer, {childList: true});\n",
              "}}\n",
              "\n",
              "// Listen for the clearing of the current output cell\n",
              "var outputEl = gd.closest('.output');\n",
              "if (outputEl) {{\n",
              "    x.observe(outputEl, {childList: true});\n",
              "}}\n",
              "\n",
              "                        })                };                            </script>        </div>\n",
              "</body>\n",
              "</html>"
            ]
          },
          "metadata": {}
        }
      ]
    },
    {
      "cell_type": "markdown",
      "source": [
        "- 0 = less chance of heart attack\n",
        "- 1 = more chance of heart attack\n",
        "- maybe when increasing old years have more chance of heart attack"
      ],
      "metadata": {
        "papermill": {
          "duration": 0.036741,
          "end_time": "2022-05-14T15:49:13.503331",
          "exception": false,
          "start_time": "2022-05-14T15:49:13.46659",
          "status": "completed"
        },
        "tags": [],
        "id": "3ujDTHY2JfZv"
      }
    },
    {
      "cell_type": "code",
      "source": [
        "# make groupby and pie graph to see how the percentage [ male and female]\n",
        "\n",
        "df.groupby('sex')[\"output\"].count().plot(kind=\"pie\",autopct='%1.1f%%',shadow=True,figsize=(10,10),title=\"Male & Female have heart attack\")"
      ],
      "metadata": {
        "papermill": {
          "duration": 0.291124,
          "end_time": "2022-05-14T15:49:13.831147",
          "exception": false,
          "start_time": "2022-05-14T15:49:13.540023",
          "status": "completed"
        },
        "tags": [],
        "execution": {
          "iopub.status.busy": "2022-05-14T18:38:03.994218Z",
          "iopub.execute_input": "2022-05-14T18:38:03.994434Z",
          "iopub.status.idle": "2022-05-14T18:38:04.222507Z",
          "shell.execute_reply.started": "2022-05-14T18:38:03.994408Z",
          "shell.execute_reply": "2022-05-14T18:38:04.2214Z"
        },
        "trusted": true,
        "colab": {
          "base_uri": "https://localhost:8080/",
          "height": 609
        },
        "id": "pr2Pqn24JfZv",
        "outputId": "20f5a7c2-b6ee-498a-c526-1dd16bd805e7"
      },
      "execution_count": 9,
      "outputs": [
        {
          "output_type": "execute_result",
          "data": {
            "text/plain": [
              "<matplotlib.axes._subplots.AxesSubplot at 0x7fccb49205d0>"
            ]
          },
          "metadata": {},
          "execution_count": 9
        },
        {
          "output_type": "display_data",
          "data": {
            "text/plain": [
              "<Figure size 720x720 with 1 Axes>"
            ],
            "image/png": "[encoded data removed]"
          },
          "metadata": {}
        }
      ]
    },
    {
      "cell_type": "markdown",
      "source": [
        "### Gender of the patients\n",
        "- 1 = 68.3% are **male**,\n",
        "- 0 = 31.7% are **female**"
      ],
      "metadata": {
        "papermill": {
          "duration": 0.037694,
          "end_time": "2022-05-14T15:49:13.914111",
          "exception": false,
          "start_time": "2022-05-14T15:49:13.876417",
          "status": "completed"
        },
        "tags": [],
        "id": "_5K6whMSJfZv"
      }
    },
    {
      "cell_type": "code",
      "source": [
        "# make groupby and pie graph to see how the percentage [ Chest Pain type chest pain type]\n",
        "\n",
        "df.groupby('cp')[\"output\"].count().plot(kind=\"pie\",autopct='%1.1f%%',shadow=True,figsize=(10,10),title=\"Chest Pain type chest pain type\")"
      ],
      "metadata": {
        "papermill": {
          "duration": 0.245669,
          "end_time": "2022-05-14T15:49:14.199222",
          "exception": false,
          "start_time": "2022-05-14T15:49:13.953553",
          "status": "completed"
        },
        "tags": [],
        "execution": {
          "iopub.status.busy": "2022-05-14T18:38:04.226392Z",
          "iopub.execute_input": "2022-05-14T18:38:04.227023Z",
          "iopub.status.idle": "2022-05-14T18:38:04.409031Z",
          "shell.execute_reply.started": "2022-05-14T18:38:04.226973Z",
          "shell.execute_reply": "2022-05-14T18:38:04.408139Z"
        },
        "trusted": true,
        "colab": {
          "base_uri": "https://localhost:8080/",
          "height": 609
        },
        "id": "CVwVMhg_JfZv",
        "outputId": "8339225a-edaa-4d57-ac85-9903029086b1"
      },
      "execution_count": 10,
      "outputs": [
        {
          "output_type": "execute_result",
          "data": {
            "text/plain": [
              "<matplotlib.axes._subplots.AxesSubplot at 0x7fccb4859810>"
            ]
          },
          "metadata": {},
          "execution_count": 10
        },
        {
          "output_type": "display_data",
          "data": {
            "text/plain": [
              "<Figure size 720x720 with 1 Axes>"
            ],
            "image/png": "[encoded data removed]"
          },
          "metadata": {}
        }
      ]
    },
    {
      "cell_type": "markdown",
      "source": [
        "## cp : Chest Pain type chest pain type\n",
        "- 0 : asymptomatic 47.2%\n",
        "- 1 : typical angina 16.5%\n",
        "- 2 : atypical angina 28.7 %\n",
        "- 3 : non-anginal pain 7.6 %"
      ],
      "metadata": {
        "papermill": {
          "duration": 0.038844,
          "end_time": "2022-05-14T15:49:14.290916",
          "exception": false,
          "start_time": "2022-05-14T15:49:14.252072",
          "status": "completed"
        },
        "tags": [],
        "id": "tLpQooeSJfZw"
      }
    },
    {
      "cell_type": "code",
      "source": [
        "# make groupby and pie graph to see how the percentage [ fasting blood sugar]\n",
        "\n",
        "\n",
        "df.groupby('fbs')[\"output\"].count().plot(kind=\"pie\",autopct='%1.1f%%',shadow=True,figsize=(10,10),title=\"fasting blood sugar\")\n"
      ],
      "metadata": {
        "papermill": {
          "duration": 0.230605,
          "end_time": "2022-05-14T15:49:14.561833",
          "exception": false,
          "start_time": "2022-05-14T15:49:14.331228",
          "status": "completed"
        },
        "tags": [],
        "execution": {
          "iopub.status.busy": "2022-05-14T18:38:04.410474Z",
          "iopub.execute_input": "2022-05-14T18:38:04.411139Z",
          "iopub.status.idle": "2022-05-14T18:38:04.591769Z",
          "shell.execute_reply.started": "2022-05-14T18:38:04.411088Z",
          "shell.execute_reply": "2022-05-14T18:38:04.590883Z"
        },
        "trusted": true,
        "colab": {
          "base_uri": "https://localhost:8080/",
          "height": 609
        },
        "id": "K3QBdCJEJfZw",
        "outputId": "1e26ddfe-93c9-4bf8-8d41-ab49ed08795b"
      },
      "execution_count": 11,
      "outputs": [
        {
          "output_type": "execute_result",
          "data": {
            "text/plain": [
              "<matplotlib.axes._subplots.AxesSubplot at 0x7fccb483f810>"
            ]
          },
          "metadata": {},
          "execution_count": 11
        },
        {
          "output_type": "display_data",
          "data": {
            "text/plain": [
              "<Figure size 720x720 with 1 Axes>"
            ],
            "image/png": "[encoded data removed]"
          },
          "metadata": {}
        }
      ]
    },
    {
      "cell_type": "markdown",
      "source": [
        "### fbs : (fasting blood sugar > 120 mg/dl) (1 = true; 0 = false)\n",
        "- 0 = 85.1 %\n",
        "- 1 = 14.9 %"
      ],
      "metadata": {
        "papermill": {
          "duration": 0.040161,
          "end_time": "2022-05-14T15:49:14.643284",
          "exception": false,
          "start_time": "2022-05-14T15:49:14.603123",
          "status": "completed"
        },
        "tags": [],
        "id": "aKR9nDvQJfZw"
      }
    },
    {
      "cell_type": "code",
      "source": [
        "# make groupby and pie graph to see how the percentage [ Electrocardiographic results]\n",
        "\n",
        "\n",
        "df.groupby('restecg')[\"output\"].count().plot(kind=\"pie\",autopct='%1.1f%%',shadow=True, figsize=(10,10),title=\"Electrocardiographic results\")\n"
      ],
      "metadata": {
        "papermill": {
          "duration": 0.200785,
          "end_time": "2022-05-14T15:49:14.884519",
          "exception": false,
          "start_time": "2022-05-14T15:49:14.683734",
          "status": "completed"
        },
        "tags": [],
        "execution": {
          "iopub.status.busy": "2022-05-14T18:38:04.593231Z",
          "iopub.execute_input": "2022-05-14T18:38:04.594133Z",
          "iopub.status.idle": "2022-05-14T18:38:04.780325Z",
          "shell.execute_reply.started": "2022-05-14T18:38:04.594081Z",
          "shell.execute_reply": "2022-05-14T18:38:04.77942Z"
        },
        "trusted": true,
        "colab": {
          "base_uri": "https://localhost:8080/",
          "height": 609
        },
        "id": "ONdDUjVzJfZw",
        "outputId": "edfcfa9f-ace8-4ce3-bf28-e671972bdc31"
      },
      "execution_count": 12,
      "outputs": [
        {
          "output_type": "execute_result",
          "data": {
            "text/plain": [
              "<matplotlib.axes._subplots.AxesSubplot at 0x7fccb434c210>"
            ]
          },
          "metadata": {},
          "execution_count": 12
        },
        {
          "output_type": "display_data",
          "data": {
            "text/plain": [
              "<Figure size 720x720 with 1 Axes>"
            ],
            "image/png": "[encoded data removed]"
          },
          "metadata": {}
        }
      ]
    },
    {
      "cell_type": "markdown",
      "source": [
        "## rest_ecg : resting electrocardiographic results\n",
        "\n",
        "- Value 0: normal = 48.5%\n",
        "- Value 1: having ST-T wave abnormality (T wave inversions and/or ST elevation or depression of > 0.05 mV) = 50.2 %\n",
        "- Value 2: showing probable or definite left ventricular hypertrophy by Estes' criteria = 1.3 %"
      ],
      "metadata": {
        "papermill": {
          "duration": 0.047242,
          "end_time": "2022-05-14T15:49:14.979687",
          "exception": false,
          "start_time": "2022-05-14T15:49:14.932445",
          "status": "completed"
        },
        "tags": [],
        "id": "SbPIcl_8JfZx"
      }
    },
    {
      "cell_type": "code",
      "source": [
        "# make groupby and pie graph to see how the percentage [ Target Variable - output]\n",
        "\n",
        "\n",
        "df.groupby('output')[\"output\"].count().plot(kind=\"pie\",autopct='%1.1f%%',shadow=True,figsize=(10,10),title=\"Target Variable - output\")\n"
      ],
      "metadata": {
        "papermill": {
          "duration": 0.187104,
          "end_time": "2022-05-14T15:49:15.211188",
          "exception": false,
          "start_time": "2022-05-14T15:49:15.024084",
          "status": "completed"
        },
        "tags": [],
        "execution": {
          "iopub.status.busy": "2022-05-14T18:38:04.781791Z",
          "iopub.execute_input": "2022-05-14T18:38:04.782698Z",
          "iopub.status.idle": "2022-05-14T18:38:04.956971Z",
          "shell.execute_reply.started": "2022-05-14T18:38:04.782645Z",
          "shell.execute_reply": "2022-05-14T18:38:04.956022Z"
        },
        "trusted": true,
        "colab": {
          "base_uri": "https://localhost:8080/",
          "height": 609
        },
        "id": "jC2ZsN9-JfZx",
        "outputId": "dfb6945f-7474-467b-84dc-a662463d8ff5"
      },
      "execution_count": 13,
      "outputs": [
        {
          "output_type": "execute_result",
          "data": {
            "text/plain": [
              "<matplotlib.axes._subplots.AxesSubplot at 0x7fccb42ac450>"
            ]
          },
          "metadata": {},
          "execution_count": 13
        },
        {
          "output_type": "display_data",
          "data": {
            "text/plain": [
              "<Figure size 720x720 with 1 Axes>"
            ],
            "image/png": "[encoded data removed]"
          },
          "metadata": {}
        }
      ]
    },
    {
      "cell_type": "markdown",
      "source": [
        "## Target Variable - output\n",
        "- More than half of the patients, **54.5 percent**, have a heart attack risk. The remaining **45.5 percent** .\n"
      ],
      "metadata": {
        "papermill": {
          "duration": 0.047198,
          "end_time": "2022-05-14T15:49:15.337641",
          "exception": false,
          "start_time": "2022-05-14T15:49:15.290443",
          "status": "completed"
        },
        "tags": [],
        "id": "BZw9PBHdJfZx"
      }
    },
    {
      "cell_type": "code",
      "source": [
        "# make groupby and bar graph to see relationship between Age and have patients heart \n",
        "\n",
        "\n",
        "df.groupby('age')[\"output\"].count().plot(kind=\"bar\",figsize=(17,6), title=\"Relationship between Age and have patients heart \")\n"
      ],
      "metadata": {
        "papermill": {
          "duration": 0.620616,
          "end_time": "2022-05-14T15:49:16.00274",
          "exception": false,
          "start_time": "2022-05-14T15:49:15.382124",
          "status": "completed"
        },
        "tags": [],
        "execution": {
          "iopub.status.busy": "2022-05-14T18:38:04.958704Z",
          "iopub.execute_input": "2022-05-14T18:38:04.95923Z",
          "iopub.status.idle": "2022-05-14T18:38:05.439831Z",
          "shell.execute_reply.started": "2022-05-14T18:38:04.959183Z",
          "shell.execute_reply": "2022-05-14T18:38:05.439303Z"
        },
        "trusted": true,
        "colab": {
          "base_uri": "https://localhost:8080/",
          "height": 428
        },
        "id": "lJNrmVZUJfZx",
        "outputId": "00181020-8345-4ebf-b681-bda7af57af6c"
      },
      "execution_count": 14,
      "outputs": [
        {
          "output_type": "execute_result",
          "data": {
            "text/plain": [
              "<matplotlib.axes._subplots.AxesSubplot at 0x7fccb4286690>"
            ]
          },
          "metadata": {},
          "execution_count": 14
        },
        {
          "output_type": "display_data",
          "data": {
            "text/plain": [
              "<Figure size 1224x432 with 1 Axes>"
            ],
            "image/png": "[encoded data removed]"
          },
          "metadata": {
            "needs_background": "light"
          }
        }
      ]
    },
    {
      "cell_type": "markdown",
      "source": [
        "## Age Variable\n",
        "- The vast majority of patients are between 50 and 60."
      ],
      "metadata": {
        "papermill": {
          "duration": 0.046448,
          "end_time": "2022-05-14T15:49:16.098933",
          "exception": false,
          "start_time": "2022-05-14T15:49:16.052485",
          "status": "completed"
        },
        "tags": [],
        "id": "84bpeL3uJfZy"
      }
    },
    {
      "cell_type": "markdown",
      "source": [
        "# Analysis Results \n",
        "\n",
        "- After make some analysis , visual graph  and explore the data set , I see some results .\n",
        "\n",
        "\n",
        "#### The vast majority of patients are between 50 and 60.\n",
        "- Maybe when increasing old years have more chance of heart attack\n",
        "\n",
        "#### Gender of the patients\n",
        "-  68.3% are Male,\n",
        "-  31.7% are Female\n",
        "\n",
        "\n",
        "#### Chest Pain type chest pain type\n",
        "- Asymptomatic 47.2%\n",
        "- Typical angina 16.5%\n",
        "- Atypical angina 28.7 %\n",
        "- Non-anginal pain 7.6 %\n",
        "\n",
        "\n",
        "#### (fasting blood sugar > 120 mg/dl) (1 = true; 0 = false)\n",
        "- 0 = 85.1 %\n",
        "- 1 = 14.9 %\n",
        "\n",
        "\n",
        "#### Resting electrocardiographic results\n",
        "- Normal = 48.5%\n",
        "- Having ST-T wave abnormality (T wave inversions and/or ST elevation or depression of > 0.05 mV) = 50.2 %\n",
        "- Showing probable or definite left ventricular hypertrophy by Estes' criteria = 1.3 %\n",
        "\n",
        "\n",
        "#### Target Variable - output\n",
        "- More than half of the patients, 54.5 percent, have a heart attack risk. The remaining 45.5 percent \n",
        "\n"
      ],
      "metadata": {
        "papermill": {
          "duration": 0.04591,
          "end_time": "2022-05-14T15:49:16.192973",
          "exception": false,
          "start_time": "2022-05-14T15:49:16.147063",
          "status": "completed"
        },
        "tags": [],
        "id": "r9KY6kW7JfZy"
      }
    },
    {
      "cell_type": "markdown",
      "source": [
        "# Preprocessing"
      ],
      "metadata": {
        "papermill": {
          "duration": 0.048868,
          "end_time": "2022-05-14T15:49:16.289154",
          "exception": false,
          "start_time": "2022-05-14T15:49:16.240286",
          "status": "completed"
        },
        "tags": [],
        "id": "SrtfxyRJJfZy"
      }
    },
    {
      "cell_type": "code",
      "source": [
        "from sklearn.preprocessing import StandardScaler\n",
        "\n",
        "st_scaler = StandardScaler()\n",
        "features = st_scaler.fit_transform(df.drop('output', axis = 1))\n",
        "\n",
        "features_df = pd.DataFrame(features, columns = df.columns[:-1])\n",
        "features_df.head()"
      ],
      "metadata": {
        "papermill": {
          "duration": 0.225943,
          "end_time": "2022-05-14T15:49:16.563498",
          "exception": false,
          "start_time": "2022-05-14T15:49:16.337555",
          "status": "completed"
        },
        "tags": [],
        "execution": {
          "iopub.status.busy": "2022-05-14T18:38:05.440868Z",
          "iopub.execute_input": "2022-05-14T18:38:05.441176Z",
          "iopub.status.idle": "2022-05-14T18:38:05.586005Z",
          "shell.execute_reply.started": "2022-05-14T18:38:05.441148Z",
          "shell.execute_reply": "2022-05-14T18:38:05.585444Z"
        },
        "trusted": true,
        "colab": {
          "base_uri": "https://localhost:8080/",
          "height": 206
        },
        "id": "-nFU7qtBJfZy",
        "outputId": "33d955b2-50e6-4991-c632-a7c83987cc90"
      },
      "execution_count": 15,
      "outputs": [
        {
          "output_type": "execute_result",
          "data": {
            "text/plain": [
              "        age       sex        cp    trtbps      chol       fbs   restecg  \\\n",
              "0  0.952197  0.681005  1.973123  0.763956 -0.256334  2.394438 -1.005832   \n",
              "1 -1.915313  0.681005  1.002577 -0.092738  0.072199 -0.417635  0.898962   \n",
              "2 -1.474158 -1.468418  0.032031 -0.092738 -0.816773 -0.417635 -1.005832   \n",
              "3  0.180175  0.681005  0.032031 -0.663867 -0.198357 -0.417635  0.898962   \n",
              "4  0.290464 -1.468418 -0.938515 -0.663867  2.082050 -0.417635  0.898962   \n",
              "\n",
              "   thalachh      exng   oldpeak       slp       caa     thall  \n",
              "0  0.015443 -0.696631  1.087338 -2.274579 -0.714429 -2.148873  \n",
              "1  1.633471 -0.696631  2.122573 -2.274579 -0.714429 -0.512922  \n",
              "2  0.977514 -0.696631  0.310912  0.976352 -0.714429 -0.512922  \n",
              "3  1.239897 -0.696631 -0.206705  0.976352 -0.714429 -0.512922  \n",
              "4  0.583939  1.435481 -0.379244  0.976352 -0.714429 -0.512922  "
            ],
            "text/html": [
              "\n",
              "  <div id=\"df-b61d206f-332f-4f7a-808c-39c6d481eea8\">\n",
              "    <div class=\"colab-df-container\">\n",
              "      <div>\n",
              "<style scoped>\n",
              "    .dataframe tbody tr th:only-of-type {\n",
              "        vertical-align: middle;\n",
              "    }\n",
              "\n",
              "    .dataframe tbody tr th {\n",
              "        vertical-align: top;\n",
              "    }\n",
              "\n",
              "    .dataframe thead th {\n",
              "        text-align: right;\n",
              "    }\n",
              "</style>\n",
              "<table border=\"1\" class=\"dataframe\">\n",
              "  <thead>\n",
              "    <tr style=\"text-align: right;\">\n",
              "      <th></th>\n",
              "      <th>age</th>\n",
              "      <th>sex</th>\n",
              "      <th>cp</th>\n",
              "      <th>trtbps</th>\n",
              "      <th>chol</th>\n",
              "      <th>fbs</th>\n",
              "      <th>restecg</th>\n",
              "      <th>thalachh</th>\n",
              "      <th>exng</th>\n",
              "      <th>oldpeak</th>\n",
              "      <th>slp</th>\n",
              "      <th>caa</th>\n",
              "      <th>thall</th>\n",
              "    </tr>\n",
              "  </thead>\n",
              "  <tbody>\n",
              "    <tr>\n",
              "      <th>0</th>\n",
              "      <td>0.952197</td>\n",
              "      <td>0.681005</td>\n",
              "      <td>1.973123</td>\n",
              "      <td>0.763956</td>\n",
              "      <td>-0.256334</td>\n",
              "      <td>2.394438</td>\n",
              "      <td>-1.005832</td>\n",
              "      <td>0.015443</td>\n",
              "      <td>-0.696631</td>\n",
              "      <td>1.087338</td>\n",
              "      <td>-2.274579</td>\n",
              "      <td>-0.714429</td>\n",
              "      <td>-2.148873</td>\n",
              "    </tr>\n",
              "    <tr>\n",
              "      <th>1</th>\n",
              "      <td>-1.915313</td>\n",
              "      <td>0.681005</td>\n",
              "      <td>1.002577</td>\n",
              "      <td>-0.092738</td>\n",
              "      <td>0.072199</td>\n",
              "      <td>-0.417635</td>\n",
              "      <td>0.898962</td>\n",
              "      <td>1.633471</td>\n",
              "      <td>-0.696631</td>\n",
              "      <td>2.122573</td>\n",
              "      <td>-2.274579</td>\n",
              "      <td>-0.714429</td>\n",
              "      <td>-0.512922</td>\n",
              "    </tr>\n",
              "    <tr>\n",
              "      <th>2</th>\n",
              "      <td>-1.474158</td>\n",
              "      <td>-1.468418</td>\n",
              "      <td>0.032031</td>\n",
              "      <td>-0.092738</td>\n",
              "      <td>-0.816773</td>\n",
              "      <td>-0.417635</td>\n",
              "      <td>-1.005832</td>\n",
              "      <td>0.977514</td>\n",
              "      <td>-0.696631</td>\n",
              "      <td>0.310912</td>\n",
              "      <td>0.976352</td>\n",
              "      <td>-0.714429</td>\n",
              "      <td>-0.512922</td>\n",
              "    </tr>\n",
              "    <tr>\n",
              "      <th>3</th>\n",
              "      <td>0.180175</td>\n",
              "      <td>0.681005</td>\n",
              "      <td>0.032031</td>\n",
              "      <td>-0.663867</td>\n",
              "      <td>-0.198357</td>\n",
              "      <td>-0.417635</td>\n",
              "      <td>0.898962</td>\n",
              "      <td>1.239897</td>\n",
              "      <td>-0.696631</td>\n",
              "      <td>-0.206705</td>\n",
              "      <td>0.976352</td>\n",
              "      <td>-0.714429</td>\n",
              "      <td>-0.512922</td>\n",
              "    </tr>\n",
              "    <tr>\n",
              "      <th>4</th>\n",
              "      <td>0.290464</td>\n",
              "      <td>-1.468418</td>\n",
              "      <td>-0.938515</td>\n",
              "      <td>-0.663867</td>\n",
              "      <td>2.082050</td>\n",
              "      <td>-0.417635</td>\n",
              "      <td>0.898962</td>\n",
              "      <td>0.583939</td>\n",
              "      <td>1.435481</td>\n",
              "      <td>-0.379244</td>\n",
              "      <td>0.976352</td>\n",
              "      <td>-0.714429</td>\n",
              "      <td>-0.512922</td>\n",
              "    </tr>\n",
              "  </tbody>\n",
              "</table>\n",
              "</div>\n",
              "      <button class=\"colab-df-convert\" onclick=\"convertToInteractive('df-b61d206f-332f-4f7a-808c-39c6d481eea8')\"\n",
              "              title=\"Convert this dataframe to an interactive table.\"\n",
              "              style=\"display:none;\">\n",
              "        \n",
              "  <svg xmlns=\"http://www.w3.org/2000/svg\" height=\"24px\"viewBox=\"0 0 24 24\"\n",
              "       width=\"24px\">\n",
              "    <path d=\"M0 0h24v24H0V0z\" fill=\"none\"/>\n",
              "    <path d=\"M18.56 5.44l.94 2.06.94-2.06 2.06-.94-2.06-.94-.94-2.06-.94 2.06-2.06.94zm-11 1L8.5 8.5l.94-2.06 2.06-.94-2.06-.94L8.5 2.5l-.94 2.06-2.06.94zm10 10l.94 2.06.94-2.06 2.06-.94-2.06-.94-.94-2.06-.94 2.06-2.06.94z\"/><path d=\"M17.41 7.96l-1.37-1.37c-.4-.4-.92-.59-1.43-.59-.52 0-1.04.2-1.43.59L10.3 9.45l-7.72 7.72c-.78.78-.78 2.05 0 2.83L4 21.41c.39.39.9.59 1.41.59.51 0 1.02-.2 1.41-.59l7.78-7.78 2.81-2.81c.8-.78.8-2.07 0-2.86zM5.41 20L4 18.59l7.72-7.72 1.47 1.35L5.41 20z\"/>\n",
              "  </svg>\n",
              "      </button>\n",
              "      \n",
              "  <style>\n",
              "    .colab-df-container {\n",
              "      display:flex;\n",
              "      flex-wrap:wrap;\n",
              "      gap: 12px;\n",
              "    }\n",
              "\n",
              "    .colab-df-convert {\n",
              "      background-color: #E8F0FE;\n",
              "      border: none;\n",
              "      border-radius: 50%;\n",
              "      cursor: pointer;\n",
              "      display: none;\n",
              "      fill: #1967D2;\n",
              "      height: 32px;\n",
              "      padding: 0 0 0 0;\n",
              "      width: 32px;\n",
              "    }\n",
              "\n",
              "    .colab-df-convert:hover {\n",
              "      background-color: #E2EBFA;\n",
              "      box-shadow: 0px 1px 2px rgba(60, 64, 67, 0.3), 0px 1px 3px 1px rgba(60, 64, 67, 0.15);\n",
              "      fill: #174EA6;\n",
              "    }\n",
              "\n",
              "    [theme=dark] .colab-df-convert {\n",
              "      background-color: #3B4455;\n",
              "      fill: #D2E3FC;\n",
              "    }\n",
              "\n",
              "    [theme=dark] .colab-df-convert:hover {\n",
              "      background-color: #434B5C;\n",
              "      box-shadow: 0px 1px 3px 1px rgba(0, 0, 0, 0.15);\n",
              "      filter: drop-shadow(0px 1px 2px rgba(0, 0, 0, 0.3));\n",
              "      fill: #FFFFFF;\n",
              "    }\n",
              "  </style>\n",
              "\n",
              "      <script>\n",
              "        const buttonEl =\n",
              "          document.querySelector('#df-b61d206f-332f-4f7a-808c-39c6d481eea8 button.colab-df-convert');\n",
              "        buttonEl.style.display =\n",
              "          google.colab.kernel.accessAllowed ? 'block' : 'none';\n",
              "\n",
              "        async function convertToInteractive(key) {\n",
              "          const element = document.querySelector('#df-b61d206f-332f-4f7a-808c-39c6d481eea8');\n",
              "          const dataTable =\n",
              "            await google.colab.kernel.invokeFunction('convertToInteractive',\n",
              "                                                     [key], {});\n",
              "          if (!dataTable) return;\n",
              "\n",
              "          const docLinkHtml = 'Like what you see? Visit the ' +\n",
              "            '<a target=\"_blank\" href=https://colab.research.google.com/notebooks/data_table.ipynb>data table notebook</a>'\n",
              "            + ' to learn more about interactive tables.';\n",
              "          element.innerHTML = '';\n",
              "          dataTable['output_type'] = 'display_data';\n",
              "          await google.colab.output.renderOutput(dataTable, element);\n",
              "          const docLink = document.createElement('div');\n",
              "          docLink.innerHTML = docLinkHtml;\n",
              "          element.appendChild(docLink);\n",
              "        }\n",
              "      </script>\n",
              "    </div>\n",
              "  </div>\n",
              "  "
            ]
          },
          "metadata": {},
          "execution_count": 15
        }
      ]
    },
    {
      "cell_type": "markdown",
      "source": [
        "# Building a Machine Learning Model / classification score Volume"
      ],
      "metadata": {
        "papermill": {
          "duration": 0.047033,
          "end_time": "2022-05-14T15:49:16.659289",
          "exception": false,
          "start_time": "2022-05-14T15:49:16.612256",
          "status": "completed"
        },
        "tags": [],
        "id": "aYULnmIkJfZz"
      }
    },
    {
      "cell_type": "code",
      "source": [
        "#Importing the basic librarires for building model - classification\n",
        "\n",
        "from sklearn.model_selection import train_test_split\n",
        "\n",
        "from sklearn.metrics import classification_report, confusion_matrix\n",
        "\n",
        "from sklearn.neighbors import  KNeighborsClassifier\n",
        "\n",
        "from sklearn.metrics import accuracy_score,r2_score"
      ],
      "metadata": {
        "papermill": {
          "duration": 0.257638,
          "end_time": "2022-05-14T15:49:16.963054",
          "exception": false,
          "start_time": "2022-05-14T15:49:16.705416",
          "status": "completed"
        },
        "tags": [],
        "execution": {
          "iopub.status.busy": "2022-05-14T18:38:05.586992Z",
          "iopub.execute_input": "2022-05-14T18:38:05.587348Z",
          "iopub.status.idle": "2022-05-14T18:38:05.759318Z",
          "shell.execute_reply.started": "2022-05-14T18:38:05.587306Z",
          "shell.execute_reply": "2022-05-14T18:38:05.758464Z"
        },
        "trusted": true,
        "id": "JLry3n57JfZz"
      },
      "execution_count": 16,
      "outputs": []
    },
    {
      "cell_type": "code",
      "source": [
        "#Defined X value and y value , and split the data train\n",
        "X = features_df\n",
        "y = df[\"output\"]    # y = quality\n",
        "\n",
        "# split the data train and test\n",
        "X_train, X_test, y_train, y_test = train_test_split(X, y, test_size=0.25, random_state=42)\n",
        "\n",
        "print(\"X Train : \", X_train.shape)\n",
        "print(\"X Test  : \", X_test.shape)\n",
        "print(\"Y Train : \", y_train.shape)\n",
        "print(\"Y Test  : \", y_test.shape)"
      ],
      "metadata": {
        "papermill": {
          "duration": 0.063546,
          "end_time": "2022-05-14T15:49:17.077942",
          "exception": false,
          "start_time": "2022-05-14T15:49:17.014396",
          "status": "completed"
        },
        "tags": [],
        "execution": {
          "iopub.status.busy": "2022-05-14T18:38:05.760632Z",
          "iopub.execute_input": "2022-05-14T18:38:05.760882Z",
          "iopub.status.idle": "2022-05-14T18:38:05.772246Z",
          "shell.execute_reply.started": "2022-05-14T18:38:05.760854Z",
          "shell.execute_reply": "2022-05-14T18:38:05.771473Z"
        },
        "trusted": true,
        "colab": {
          "base_uri": "https://localhost:8080/"
        },
        "id": "VMvtBnTYJfZz",
        "outputId": "097ccb76-6bec-4781-bf0c-ad78ac8a5489"
      },
      "execution_count": 17,
      "outputs": [
        {
          "output_type": "stream",
          "name": "stdout",
          "text": [
            "X Train :  (227, 13)\n",
            "X Test  :  (76, 13)\n",
            "Y Train :  (227,)\n",
            "Y Test  :  (76,)\n"
          ]
        }
      ]
    },
    {
      "cell_type": "code",
      "source": [
        "for i in range(1,10):\n",
        "    knn1 = KNeighborsClassifier(n_neighbors=i)\n",
        "    knn1.fit(X_train,y_train)\n",
        "    pred1 = knn1.predict(X_test)\n",
        "    print(f\"For Knn-{i}: \\n\")\n",
        "    print(classification_report(y_test,pred1))\n",
        "    print('====================================')"
      ],
      "metadata": {
        "papermill": {
          "duration": 0.185422,
          "end_time": "2022-05-14T15:49:17.315459",
          "exception": false,
          "start_time": "2022-05-14T15:49:17.130037",
          "status": "completed"
        },
        "tags": [],
        "execution": {
          "iopub.status.busy": "2022-05-14T18:38:05.773162Z",
          "iopub.execute_input": "2022-05-14T18:38:05.773567Z",
          "iopub.status.idle": "2022-05-14T18:38:05.882036Z",
          "shell.execute_reply.started": "2022-05-14T18:38:05.773536Z",
          "shell.execute_reply": "2022-05-14T18:38:05.881469Z"
        },
        "trusted": true,
        "colab": {
          "base_uri": "https://localhost:8080/"
        },
        "id": "oDJZBTb7JfZz",
        "outputId": "fa520c60-e465-4b71-b79a-bcdf95516d2c"
      },
      "execution_count": 18,
      "outputs": [
        {
          "output_type": "stream",
          "name": "stdout",
          "text": [
            "For Knn-1: \n",
            "\n",
            "              precision    recall  f1-score   support\n",
            "\n",
            "           0       0.78      0.80      0.79        35\n",
            "           1       0.82      0.80      0.81        41\n",
            "\n",
            "    accuracy                           0.80        76\n",
            "   macro avg       0.80      0.80      0.80        76\n",
            "weighted avg       0.80      0.80      0.80        76\n",
            "\n",
            "====================================\n",
            "For Knn-2: \n",
            "\n",
            "              precision    recall  f1-score   support\n",
            "\n",
            "           0       0.71      0.91      0.80        35\n",
            "           1       0.90      0.68      0.78        41\n",
            "\n",
            "    accuracy                           0.79        76\n",
            "   macro avg       0.81      0.80      0.79        76\n",
            "weighted avg       0.81      0.79      0.79        76\n",
            "\n",
            "====================================\n",
            "For Knn-3: \n",
            "\n",
            "              precision    recall  f1-score   support\n",
            "\n",
            "           0       0.82      0.91      0.86        35\n",
            "           1       0.92      0.83      0.87        41\n",
            "\n",
            "    accuracy                           0.87        76\n",
            "   macro avg       0.87      0.87      0.87        76\n",
            "weighted avg       0.87      0.87      0.87        76\n",
            "\n",
            "====================================\n",
            "For Knn-4: \n",
            "\n",
            "              precision    recall  f1-score   support\n",
            "\n",
            "           0       0.78      0.91      0.84        35\n",
            "           1       0.91      0.78      0.84        41\n",
            "\n",
            "    accuracy                           0.84        76\n",
            "   macro avg       0.85      0.85      0.84        76\n",
            "weighted avg       0.85      0.84      0.84        76\n",
            "\n",
            "====================================\n",
            "For Knn-5: \n",
            "\n",
            "              precision    recall  f1-score   support\n",
            "\n",
            "           0       0.89      0.89      0.89        35\n",
            "           1       0.90      0.90      0.90        41\n",
            "\n",
            "    accuracy                           0.89        76\n",
            "   macro avg       0.89      0.89      0.89        76\n",
            "weighted avg       0.89      0.89      0.89        76\n",
            "\n",
            "====================================\n",
            "For Knn-6: \n",
            "\n",
            "              precision    recall  f1-score   support\n",
            "\n",
            "           0       0.89      0.89      0.89        35\n",
            "           1       0.90      0.90      0.90        41\n",
            "\n",
            "    accuracy                           0.89        76\n",
            "   macro avg       0.89      0.89      0.89        76\n",
            "weighted avg       0.89      0.89      0.89        76\n",
            "\n",
            "====================================\n",
            "For Knn-7: \n",
            "\n",
            "              precision    recall  f1-score   support\n",
            "\n",
            "           0       0.91      0.89      0.90        35\n",
            "           1       0.90      0.93      0.92        41\n",
            "\n",
            "    accuracy                           0.91        76\n",
            "   macro avg       0.91      0.91      0.91        76\n",
            "weighted avg       0.91      0.91      0.91        76\n",
            "\n",
            "====================================\n",
            "For Knn-8: \n",
            "\n",
            "              precision    recall  f1-score   support\n",
            "\n",
            "           0       0.82      0.89      0.85        35\n",
            "           1       0.89      0.83      0.86        41\n",
            "\n",
            "    accuracy                           0.86        76\n",
            "   macro avg       0.86      0.86      0.86        76\n",
            "weighted avg       0.86      0.86      0.86        76\n",
            "\n",
            "====================================\n",
            "For Knn-9: \n",
            "\n",
            "              precision    recall  f1-score   support\n",
            "\n",
            "           0       0.84      0.89      0.86        35\n",
            "           1       0.90      0.85      0.88        41\n",
            "\n",
            "    accuracy                           0.87        76\n",
            "   macro avg       0.87      0.87      0.87        76\n",
            "weighted avg       0.87      0.87      0.87        76\n",
            "\n",
            "====================================\n"
          ]
        }
      ]
    },
    {
      "cell_type": "code",
      "source": [
        "KNN = KNeighborsClassifier(n_neighbors=7)\n",
        "KNN.fit(X_train,y_train)\n",
        "pred = KNN.predict(X_test)\n",
        "print(f\"For Knn-{i}: \\n\")\n",
        "print(classification_report(y_test,pred))"
      ],
      "metadata": {
        "papermill": {
          "duration": 0.077815,
          "end_time": "2022-05-14T15:49:17.445403",
          "exception": false,
          "start_time": "2022-05-14T15:49:17.367588",
          "status": "completed"
        },
        "tags": [],
        "execution": {
          "iopub.status.busy": "2022-05-14T18:38:05.882882Z",
          "iopub.execute_input": "2022-05-14T18:38:05.883187Z",
          "iopub.status.idle": "2022-05-14T18:38:05.899765Z",
          "shell.execute_reply.started": "2022-05-14T18:38:05.883161Z",
          "shell.execute_reply": "2022-05-14T18:38:05.898867Z"
        },
        "trusted": true,
        "colab": {
          "base_uri": "https://localhost:8080/"
        },
        "id": "Uc-456i6JfZz",
        "outputId": "19e0a32e-44a7-4f15-940e-745a8457db28"
      },
      "execution_count": 19,
      "outputs": [
        {
          "output_type": "stream",
          "name": "stdout",
          "text": [
            "For Knn-9: \n",
            "\n",
            "              precision    recall  f1-score   support\n",
            "\n",
            "           0       0.91      0.89      0.90        35\n",
            "           1       0.90      0.93      0.92        41\n",
            "\n",
            "    accuracy                           0.91        76\n",
            "   macro avg       0.91      0.91      0.91        76\n",
            "weighted avg       0.91      0.91      0.91        76\n",
            "\n"
          ]
        }
      ]
    },
    {
      "cell_type": "code",
      "source": [
        "confusion_matrix(y_test, pred)"
      ],
      "metadata": {
        "papermill": {
          "duration": 0.088328,
          "end_time": "2022-05-14T15:49:17.583168",
          "exception": false,
          "start_time": "2022-05-14T15:49:17.49484",
          "status": "completed"
        },
        "tags": [],
        "execution": {
          "iopub.status.busy": "2022-05-14T18:38:05.900893Z",
          "iopub.execute_input": "2022-05-14T18:38:05.90126Z",
          "iopub.status.idle": "2022-05-14T18:38:05.908953Z",
          "shell.execute_reply.started": "2022-05-14T18:38:05.901231Z",
          "shell.execute_reply": "2022-05-14T18:38:05.908086Z"
        },
        "trusted": true,
        "colab": {
          "base_uri": "https://localhost:8080/"
        },
        "id": "U_mcTUWHJfZz",
        "outputId": "240deedf-f77a-40bf-b15c-7033ff3f4ad0"
      },
      "execution_count": 20,
      "outputs": [
        {
          "output_type": "execute_result",
          "data": {
            "text/plain": [
              "array([[31,  4],\n",
              "       [ 3, 38]])"
            ]
          },
          "metadata": {},
          "execution_count": 20
        }
      ]
    },
    {
      "cell_type": "code",
      "source": [
        "accuracy_score(y_test,pred)*100"
      ],
      "metadata": {
        "papermill": {
          "duration": 0.069607,
          "end_time": "2022-05-14T15:49:17.716172",
          "exception": false,
          "start_time": "2022-05-14T15:49:17.646565",
          "status": "completed"
        },
        "tags": [],
        "execution": {
          "iopub.status.busy": "2022-05-14T18:38:05.909855Z",
          "iopub.execute_input": "2022-05-14T18:38:05.910348Z",
          "iopub.status.idle": "2022-05-14T18:38:05.921746Z",
          "shell.execute_reply.started": "2022-05-14T18:38:05.910302Z",
          "shell.execute_reply": "2022-05-14T18:38:05.921201Z"
        },
        "trusted": true,
        "colab": {
          "base_uri": "https://localhost:8080/"
        },
        "id": "WOVoxbpcJfZ0",
        "outputId": "271d659c-13e5-460e-d9ea-bb4b5753289b"
      },
      "execution_count": 21,
      "outputs": [
        {
          "output_type": "execute_result",
          "data": {
            "text/plain": [
              "90.78947368421053"
            ]
          },
          "metadata": {},
          "execution_count": 21
        }
      ]
    },
    {
      "cell_type": "code",
      "source": [
        ""
      ],
      "metadata": {
        "id": "OnzdSM6sJ6oR"
      },
      "execution_count": 21,
      "outputs": []
    }
  ]
}